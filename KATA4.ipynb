{
 "cells": [
  {
   "cell_type": "code",
   "execution_count": 4,
   "metadata": {},
   "outputs": [
    {
     "name": "stdout",
     "output_type": "stream",
     "text": [
      "Interesting facts about the Moon\n",
      "The Moon is Earth's only satellite\n",
      "There are several interesting facts about the Moon and how it affects life here on Earth\n",
      "\n",
      "On average, the Moon moves 4cm away from the Earth every year\n",
      "This yearly drift is not significant enough to cause immediate effects on Earth\n",
      "Interesting facts about the Moon\n",
      "The Moon is Earth's only satellite\n",
      "There are several interesting facts about the Moon and how it affects life here on Earth\n",
      "\n",
      "On average, the Moon moves 4cm away from the Earth every year\n",
      "This yearly drift is not significant enough to cause immediate effects on Earth\n"
     ]
    }
   ],
   "source": [
    "text = \"\"\"Interesting facts about the Moon. The Moon is Earth's only satellite. There are several interesting facts about the Moon and how it affects life here on Earth. \n",
    "On average, the Moon moves 4cm away from the Earth every year. This yearly drift is not significant enough to cause immediate effects on Earth. The highe\n",
    "text_parts = text.split('. ')\n",
    "text_parts\"\"\"\n",
    "\n",
    "\n",
    "text_parts = text.split('. ')\n",
    "text_parts\n",
    "\n",
    "key_words = [\"facts\", \"Earth\", \"satellite\"]\n",
    "\n",
    "for sentence in text_parts:\n",
    "    for key_word in key_words:\n",
    "        if key_word in sentence:\n",
    "            print(sentence)\n",
    "            break\n",
    "\n",
    "for sentence in text_parts:\n",
    "    for key_word in key_words:\n",
    "        if key_word in sentence:\n",
    "            print(sentence.replace(' C', ' Celsius'))\n",
    "            break"
   ]
  },
  {
   "cell_type": "code",
   "execution_count": 8,
   "metadata": {},
   "outputs": [
    {
     "name": "stdout",
     "output_type": "stream",
     "text": [
      "-------------------------------------------------------------------------------- \n",
      "Nombre del planeta: Jupiter  \n",
      "Gravedad en satelite: 8029.299999999999 m/s2 \n",
      "\n",
      "-------------------------------------------------------------------------------- \n",
      "Nombre del planeta: Jupiter  \n",
      "Gravedad en satelite: 8029.299999999999 m/s2 \n",
      "\n",
      "\n",
      "Datos de Gravedad sobre: satelite\n",
      "-------------------------------------------------------------------------------\n",
      "Nombre del planeta: Jupiter \n",
      "Gravedad en satelite: 8.0293 m/s2\n",
      "\n",
      "\n",
      "Datos de Gravedad sobre: satelite\n",
      "-------------------------------------------------------------------------------\n",
      "Nombre del planeta: Jupiter \n",
      "Gravedad en satelite: 8029.299999999999 m/s2\n",
      "\n"
     ]
    }
   ],
   "source": [
    "\n",
    "planeta = 'Jupiter '\n",
    "gravedad  = 8.0293\n",
    "nombre = 'satelite'\n",
    "title = f'datos de gravedad sobre {nombre}'\n",
    "hechos = f\"\"\"{'-'*80} \n",
    "Nombre del planeta: {planeta} \n",
    "Gravedad en {nombre}: {gravedad * 1000} m/s2 \n",
    "\"\"\"\n",
    "template = f\"\"\"{title.title()} \n",
    "{hechos} \n",
    "\"\"\" \n",
    "print(hechos)\n",
    "planeta = 'Jupiter '\n",
    "gravedad  = 8.0293\n",
    "nombre = 'satelite'\n",
    "print(hechos)\n",
    "new_template = \"\"\"\n",
    "Datos de Gravedad sobre: {nombre}\n",
    "-------------------------------------------------------------------------------\n",
    "Nombre del planeta: {planeta}\n",
    "Gravedad en {nombre}: {gravedad} m/s2\n",
    "\"\"\"\n",
    "print(new_template.format(nombre=nombre, planeta=planeta, gravedad=gravedad))\n",
    "print(new_template.format(nombre=nombre, planeta=planeta, gravedad=gravedad*1000))\n",
    "\n"
   ]
  }
 ],
 "metadata": {
  "interpreter": {
   "hash": "98e5f96642d36eefd9340d63b561ab1a657587357af17013c7a58b17c66c8757"
  },
  "kernelspec": {
   "display_name": "Python 3.10.2 64-bit",
   "language": "python",
   "name": "python3"
  },
  "language_info": {
   "codemirror_mode": {
    "name": "ipython",
    "version": 3
   },
   "file_extension": ".py",
   "mimetype": "text/x-python",
   "name": "python",
   "nbconvert_exporter": "python",
   "pygments_lexer": "ipython3",
   "version": "3.10.2"
  },
  "orig_nbformat": 4
 },
 "nbformat": 4,
 "nbformat_minor": 2
}
