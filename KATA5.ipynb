{
 "cells": [
  {
   "cell_type": "code",
   "execution_count": 3,
   "metadata": {},
   "outputs": [
    {
     "name": "stdout",
     "output_type": "stream",
     "text": [
      "628949330\n",
      "390577533.93\n"
     ]
    }
   ],
   "source": [
    "Planeta_primario = 149597870\n",
    "Planeta_Secundario = 778547200\n",
    "\n",
    "diatanciaenKilometros = Planeta_Secundario - Planeta_primario\n",
    "print(diatanciaenKilometros)\n",
    "\n",
    "distanciaenMillas = diatanciaenKilometros * 0.621\n",
    "print(distanciaenMillas)"
   ]
  },
  {
   "cell_type": "code",
   "execution_count": 7,
   "metadata": {},
   "outputs": [],
   "source": [
    "Planeta_primario = input('diatancia al sol')\n",
    "Planeta_Secundario = input('distancia al sol')\n",
    "\n",
    "Planeta_primario = int(Planeta_primario)\n",
    "Planeta_Secundario = int(Planeta_Secundario)\n",
    "distance_km = Planeta_Secundario - Planeta_primario\n",
    "print(distance_km)\n",
    "\n",
    "# Convertir de KM a Millas\n",
    "distance_mi = distance_km * 0.621\n",
    "print(abs(distance_mi))"
   ]
  }
 ],
 "metadata": {
  "interpreter": {
   "hash": "98e5f96642d36eefd9340d63b561ab1a657587357af17013c7a58b17c66c8757"
  },
  "kernelspec": {
   "display_name": "Python 3.10.2 64-bit",
   "language": "python",
   "name": "python3"
  },
  "language_info": {
   "codemirror_mode": {
    "name": "ipython",
    "version": 3
   },
   "file_extension": ".py",
   "mimetype": "text/x-python",
   "name": "python",
   "nbconvert_exporter": "python",
   "pygments_lexer": "ipython3",
   "version": "3.10.2"
  },
  "orig_nbformat": 4
 },
 "nbformat": 4,
 "nbformat_minor": 2
}
