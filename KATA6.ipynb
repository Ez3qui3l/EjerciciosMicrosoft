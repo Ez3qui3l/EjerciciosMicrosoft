{
 "cells": [
  {
   "cell_type": "code",
   "execution_count": 4,
   "metadata": {},
   "outputs": [
    {
     "name": "stdout",
     "output_type": "stream",
     "text": [
      "Son 8 planetas\n",
      "pluton  es el ultimo planeta\n"
     ]
    }
   ],
   "source": [
    "planetas = ['Mercurio', 'Venus', 'Tierra', 'Marte', 'Jupiter', 'Saturno', 'Urano','Neptuno']\n",
    "print('Son', len(planetas), 'planetas')\n",
    "planetas.append('pluton')\n",
    "print(planetas[-1],'es el ultimo planeta')\n"
   ]
  },
  {
   "cell_type": "code",
   "execution_count": 5,
   "metadata": {},
   "outputs": [
    {
     "name": "stdout",
     "output_type": "stream",
     "text": [
      "estos son los planetas mas cercanosMercurio\n",
      "[]\n",
      "mas lejanos Mercurio\n",
      "['Venus', 'Tierra', 'Marte', 'Jupiter', 'Saturno', 'Urano', 'Neptuno']\n"
     ]
    }
   ],
   "source": [
    "planetas = ['Mercurio', 'Venus', 'Tierra', 'Marte', 'Jupiter', 'Saturno', 'Urano','Neptuno']\n",
    "user_planet = input('ingres nombre ')\n",
    "planet_index = planetas.index(user_planet)\n",
    "print('estos son los planetas mas cercanos' + user_planet)\n",
    "print(planetas[0:planet_index])\n",
    "print('mas lejanos ' + user_planet)\n",
    "print(planetas[planet_index + 1:])\n",
    "\n"
   ]
  }
 ],
 "metadata": {
  "interpreter": {
   "hash": "98e5f96642d36eefd9340d63b561ab1a657587357af17013c7a58b17c66c8757"
  },
  "kernelspec": {
   "display_name": "Python 3.10.2 64-bit",
   "language": "python",
   "name": "python3"
  },
  "language_info": {
   "codemirror_mode": {
    "name": "ipython",
    "version": 3
   },
   "file_extension": ".py",
   "mimetype": "text/x-python",
   "name": "python",
   "nbconvert_exporter": "python",
   "pygments_lexer": "ipython3",
   "version": "3.10.2"
  },
  "orig_nbformat": 4
 },
 "nbformat": 4,
 "nbformat_minor": 2
}
