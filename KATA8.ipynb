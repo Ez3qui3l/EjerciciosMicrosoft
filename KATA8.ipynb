{
 "cells": [
  {
   "cell_type": "code",
   "execution_count": 5,
   "metadata": {},
   "outputs": [
    {
     "name": "stdout",
     "output_type": "stream",
     "text": [
      "venus tiene 0 lunas\n",
      "venus circunferencia 3567\n",
      "17.833333333333332\n"
     ]
    }
   ],
   "source": [
    "Planeta = {\n",
    "    'nombre': 'venus',\n",
    "    'lunas': 0\n",
    "}\n",
    "print(f'{Planeta[\"nombre\"]} tiene {Planeta[\"lunas\"]} lunas')\n",
    "\n",
    "Planeta['circunferencia (km)'] = {\n",
    "    'polar': 3567,\n",
    "    'equatorial': 3567\n",
    "}\n",
    "\n",
    "print(f'{Planeta[\"nombre\"]} circunferencia {Planeta[\"circunferencia (km)\"][\"polar\"]}')\n",
    "planet_moons = {\n",
    "    'mercury': 0,\n",
    "    'venus': 0,\n",
    "    'earth': 1,\n",
    "    'mars': 2,\n",
    "    'jupiter': 79,\n",
    "    'saturn': 82,\n",
    "    'uranus': 27,\n",
    "    'neptune': 14,\n",
    "    'pluto': 5,\n",
    "    'haumea': 2,\n",
    "    'makemake': 1,\n",
    "    'eris': 1\n",
    "}\n",
    "lunas = planet_moons.values()\n",
    "planets = len(planet_moons.keys())\n",
    "total_moons = 0\n",
    "for moon in lunas:\n",
    "    total_moons = total_moons + moon\n",
    "\n",
    "promedio = total_moons / planets\n",
    "\n",
    "print(promedio)\n",
    "\n"
   ]
  }
 ],
 "metadata": {
  "interpreter": {
   "hash": "98e5f96642d36eefd9340d63b561ab1a657587357af17013c7a58b17c66c8757"
  },
  "kernelspec": {
   "display_name": "Python 3.10.2 64-bit",
   "language": "python",
   "name": "python3"
  },
  "language_info": {
   "codemirror_mode": {
    "name": "ipython",
    "version": 3
   },
   "file_extension": ".py",
   "mimetype": "text/x-python",
   "name": "python",
   "nbconvert_exporter": "python",
   "pygments_lexer": "ipython3",
   "version": "3.10.2"
  },
  "orig_nbformat": 4
 },
 "nbformat": 4,
 "nbformat_minor": 2
}
