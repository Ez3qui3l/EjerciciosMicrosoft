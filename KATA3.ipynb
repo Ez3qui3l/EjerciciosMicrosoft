{
 "cells": [
  {
   "cell_type": "code",
   "execution_count": 5,
   "metadata": {},
   "outputs": [
    {
     "name": "stdout",
     "output_type": "stream",
     "text": [
      "55\n"
     ]
    }
   ],
   "source": [
    "a = 97\n",
    "b = 55\n",
    "# test expression / expresión de prueba\n",
    "if a > b:\n",
    "    # statement to be run / instrucción a ejecutar\n",
    "    print(b)"
   ]
  },
  {
   "cell_type": "code",
   "execution_count": 6,
   "metadata": {},
   "outputs": [
    {
     "name": "stdout",
     "output_type": "stream",
     "text": [
      "alerta, el asteroide esta por chocar\n"
     ]
    }
   ],
   "source": [
    "asteroide = 49\n",
    "if asteroide > 25:\n",
    "    print ('alerta, el asteroide esta por chocar')\n",
    "else:\n",
    "    print('falsa alarma')\n"
   ]
  },
  {
   "cell_type": "code",
   "execution_count": 9,
   "metadata": {},
   "outputs": [
    {
     "name": "stdout",
     "output_type": "stream",
     "text": [
      "gran rayo\n"
     ]
    }
   ],
   "source": [
    "asteroide = 20\n",
    "if asteroide > 20:\n",
    "    print('wow que rayo')\n",
    "elif asteroide == 20:\n",
    "    print('gran rayo')\n",
    "else:\n",
    "    print('todo sereno')"
   ]
  },
  {
   "cell_type": "code",
   "execution_count": 11,
   "metadata": {},
   "outputs": [
    {
     "name": "stdout",
     "output_type": "stream",
     "text": [
      "Peligro\n"
     ]
    }
   ],
   "source": [
    "velocidad_asteroide = 26\n",
    "tamano_asteroide = 40\n",
    "if velocidad_asteroide > 25 and tamano_asteroide > 25:\n",
    "    print('Peligro')\n",
    "elif velocidad_asteroide >= 20:\n",
    "    print('gran luz')\n",
    "elif tamano_asteroide < 25:\n",
    "    print('todo sereno')\n",
    "else:\n",
    "    print('todo sereno')"
   ]
  },
  {
   "cell_type": "code",
   "execution_count": 4,
   "metadata": {},
   "outputs": [
    {
     "name": "stdout",
     "output_type": "stream",
     "text": [
      "93\n"
     ]
    }
   ],
   "source": [
    "a = 93\n",
    "b = 27\n",
    "if a >= b:\n",
    "    print(a)"
   ]
  }
 ],
 "metadata": {
  "interpreter": {
   "hash": "98e5f96642d36eefd9340d63b561ab1a657587357af17013c7a58b17c66c8757"
  },
  "kernelspec": {
   "display_name": "Python 3.10.2 64-bit",
   "language": "python",
   "name": "python3"
  },
  "language_info": {
   "codemirror_mode": {
    "name": "ipython",
    "version": 3
   },
   "file_extension": ".py",
   "mimetype": "text/x-python",
   "name": "python",
   "nbconvert_exporter": "python",
   "pygments_lexer": "ipython3",
   "version": "3.10.2"
  },
  "orig_nbformat": 4
 },
 "nbformat": 4,
 "nbformat_minor": 2
}
